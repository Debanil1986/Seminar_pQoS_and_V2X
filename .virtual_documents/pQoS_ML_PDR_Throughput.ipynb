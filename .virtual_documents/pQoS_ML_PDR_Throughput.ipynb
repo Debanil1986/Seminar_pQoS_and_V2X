import pandas as pd
import numpy as np
from sklearn.compose import make_column_transformer
from sklearn.ensemble import RandomForestRegressor
from xgboost import XGBRegressor
from sklearn.metrics import r2_score, mean_squared_error, mean_absolute_error
from catboost import CatBoostRegressor, CatBoostClassifier
from sklearn.preprocessing import OrdinalEncoder
from sklearn.model_selection import train_test_split





train_df = pd.read_csv('train_new.csv')
test_df = pd.read_csv('test_new.csv')
val_df = pd.read_csv('val_new.csv')





# Split inputs and targets
train_inputs = train_df.drop(columns=['score'])
train_targets = train_df['score']
test_inputs = test_df.copy()
test_inputs_copy = test_df.copy(deep=True)
train_inputs_copy= train_inputs.copy(deep=True)

# Select features
dropped_columns = ['object_id','sensor_id','occlusion_level']
train_inputs.drop(columns=dropped_columns, inplace=True)
dropped_columns.append('score')
test_inputs.drop(columns=dropped_columns, inplace=True)

# Transform categorical features
categorical_features = ['object_type']
oe = OrdinalEncoder()
train_inputs[categorical_features] = oe.fit_transform(train_inputs[categorical_features])
test_inputs[categorical_features] = oe.transform(test_inputs[categorical_features])

# Missing value imputation
train_inputs.fillna(0, inplace=True)
test_inputs.fillna(0, inplace=True)





X_train_xg, X_test_xg, y_train_xg, y_test_xg = train_test_split(
        train_inputs, train_targets, test_size=0.2, random_state=42
    )
model = XGBRegressor(
        n_estimators=100,
        learning_rate=0.1,
        max_depth=5,
        random_state=42
    )

model.fit(X_train_xg, y_train_xg)

y_pred_xg = model.predict(X_test_xg)

r2 = r2_score(y_test_xg, y_pred_xg)
rmse = np.sqrt(mean_squared_error(y_test_xg, y_pred_xg))
mae = mean_absolute_error(y_test_xg, y_pred_xg)



print(f"R²: {r2:.4f}")
print(f"RMSE: {rmse:.4f}")
print(f"MAE: {mae:.4f}")






def preprocess_nan_values(df):
    """Replace NaN in categorical columns with empty string and maintain proper dtypes"""
    # Convert to object type first to allow empty string insertion
    df['occlusion_level'] = df['occlusion_level'].astype(object)
    df['object_type'] = df['object_type'].astype(object)
    df['sensor_id'] = df['object_type'].astype(object)
    
    # Fill NaN with empty string
    df[['occlusion_level', 'object_type','sensor_id']] = df[['occlusion_level', 'object_type','sensor_id']].fillna('')
    
    # Convert back to categorical type
    df['occlusion_level'] = df['occlusion_level'].astype('category')
    df['object_type'] = df['object_type'].astype('category')
    df['sensor_id'] = df['sensor_id'].astype('category')
    
    return df


occlusion_map = {
      'NOT_OCCLUDED': 0.29,
      'PARTIALLY_OCCLUDED': 0.64,
      'MOSTLY_OCCLUDED': 0.98,
      '': 0.2  # default for blank or missing
}
categorical_features = [ 
    'occlusion_level',
    'object_type',
    'sensor_id'
]

train_inputs_cat = preprocess_nan_values(train_inputs_copy.copy())
test_inputs_cat =preprocess_nan_values(test_inputs_copy.copy())


test_targets_cat = test_inputs_cat['score']
dropped_columns = ['object_id']
train_inputs_cat.drop(columns=dropped_columns, inplace=True)
dropped_columns.append('score')
test_inputs_cat.drop(columns=dropped_columns, inplace=True)
dropped_columns.pop()
print(dropped_columns)



# Model for CatBoostAlgorithm 
model = CatBoostRegressor(
    iterations=1000,
    learning_rate=0.1,
    depth=6,
    cat_features=categorical_features,
    verbose=True,
    random_seed=42,
    early_stopping_rounds=50,
    loss_function='RMSE'  
)

model.fit(
    train_inputs_cat,
    train_targets,
    eval_set=(test_inputs_cat,test_targets_cat), 
    use_best_model=True
)

predictions = model.predict(test_inputs_cat)

accuracy = accuracy_score(test_targets, np.rint(predictions))
print(f"Accuracy: {accuracy:.4f}")



print(train_inputs_cat.iloc[8])
test_inputs_cat.iloc[8]





# Split training and validation tests

X_train, X_test, y_train, y_test = train_test_split(train_inputs, train_targets, test_size = 0.2, random_state = 0)

# Create algorithm
rf = RandomForestRegressor()

# Train
rf.fit(X_train, y_train)

# Validation
val_predictions = rf.predict(X_test)
# print(test_inputs.head(10))
# Test
test_predictions = rf.predict(test_inputs)





rmse = mean_squared_error(y_test, val_predictions, squared=False)
print(f"Root Mean Squared Error = {rmse / 1e6:.3} Mbit/s")
r2 = r2_score(y_test, val_predictions)
print(f"R²: {r2:.4f}")





# Add index to results
predictions_df = pd.DataFrame({'id': test_df.object_id, 'target': test_predictions})
predictions_df.to_csv("BenchmarkSubmission.csv", index = False)
predictions_df.head()
