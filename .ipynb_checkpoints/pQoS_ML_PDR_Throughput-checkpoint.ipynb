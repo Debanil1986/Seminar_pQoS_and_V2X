{
 "cells": [
  {
   "cell_type": "code",
   "execution_count": 1,
   "id": "83659bd7-873f-4efc-b71e-8319cba9a7d3",
   "metadata": {
    "id": "83659bd7-873f-4efc-b71e-8319cba9a7d3"
   },
   "outputs": [],
   "source": [
    "import pandas as pd\n",
    "import numpy as np\n",
    "from sklearn.compose import make_column_transformer\n",
    "from sklearn.ensemble import RandomForestRegressor\n",
    "from xgboost import XGBRegressor\n",
    "from sklearn.metrics import r2_score, mean_squared_error, mean_absolute_error\n",
    "from sklearn.preprocessing import OrdinalEncoder\n",
    "from sklearn.model_selection import train_test_split"
   ]
  },
  {
   "cell_type": "markdown",
   "id": "ddd1971d-f8a6-4470-ae70-73df82376eb5",
   "metadata": {
    "id": "ddd1971d-f8a6-4470-ae70-73df82376eb5"
   },
   "source": [
    "# Data loading"
   ]
  },
  {
   "cell_type": "code",
   "execution_count": 2,
   "id": "9ec676c9-e6a7-4a70-be2c-76345f1fc6b6",
   "metadata": {
    "id": "9ec676c9-e6a7-4a70-be2c-76345f1fc6b6"
   },
   "outputs": [],
   "source": [
    "train_df = pd.read_csv('train_new.csv')\n",
    "test_df = pd.read_csv('test_new.csv')\n",
    "val_df = pd.read_csv('val_new.csv')"
   ]
  },
  {
   "cell_type": "markdown",
   "id": "36c5c4fb-c820-4eea-b9bb-5a93ed88ce69",
   "metadata": {
    "id": "36c5c4fb-c820-4eea-b9bb-5a93ed88ce69"
   },
   "source": [
    "# Data preparation"
   ]
  },
  {
   "cell_type": "code",
   "execution_count": 3,
   "id": "f71f8390-07e6-44b4-ad33-ba882d37e679",
   "metadata": {
    "id": "f71f8390-07e6-44b4-ad33-ba882d37e679"
   },
   "outputs": [],
   "source": [
    "# Split inputs and targets\n",
    "train_inputs = train_df.drop(columns=['score'])\n",
    "train_targets = train_df['score']\n",
    "test_inputs = test_df.copy()\n",
    "\n",
    "# Select features\n",
    "dropped_columns = ['object_id']\n",
    "train_inputs.drop(columns=dropped_columns, inplace=True)\n",
    "test_inputs.drop(columns=dropped_columns, inplace=True)\n",
    "\n",
    "# Transform categorical features\n",
    "categorical_features = ['object_type']\n",
    "oe = OrdinalEncoder()\n",
    "train_inputs[categorical_features] = oe.fit_transform(train_inputs[categorical_features])\n",
    "test_inputs[categorical_features] = oe.transform(test_inputs[categorical_features])\n",
    "\n",
    "# Missing value imputation\n",
    "train_inputs.fillna(0, inplace=True)\n",
    "test_inputs.fillna(0, inplace=True)"
   ]
  },
  {
   "cell_type": "markdown",
   "id": "ecde83a6-b2bb-4893-8ffc-c878942cf660",
   "metadata": {},
   "source": [
    "### Prediction using XGBoost"
   ]
  },
  {
   "cell_type": "code",
   "execution_count": 4,
   "id": "8b221745-109d-4c4c-b677-ac1fb7afca6d",
   "metadata": {},
   "outputs": [
    {
     "name": "stdout",
     "output_type": "stream",
     "text": [
      "R²: 0.9544\n",
      "RMSE: 10.8574\n",
      "MAE: 4.3775\n"
     ]
    }
   ],
   "source": [
    "X_train_xg, X_test_xg, y_train_xg, y_test_xg = train_test_split(\n",
    "        train_inputs, train_targets, test_size=0.2, random_state=42\n",
    "    )\n",
    "model = XGBRegressor(\n",
    "        n_estimators=100,\n",
    "        learning_rate=0.1,\n",
    "        max_depth=5,\n",
    "        random_state=42\n",
    "    )\n",
    "\n",
    "model.fit(X_train_xg, y_train_xg)\n",
    "\n",
    "y_pred_xg = model.predict(X_test_xg)\n",
    "\n",
    "r2 = r2_score(y_test_xg, y_pred_xg)\n",
    "rmse = np.sqrt(mean_squared_error(y_test_xg, y_pred_xg))\n",
    "mae = mean_absolute_error(y_test_xg, y_pred_xg)\n",
    "\n",
    "\n",
    "\n",
    "print(f\"R²: {r2:.4f}\")\n",
    "print(f\"RMSE: {rmse:.4f}\")\n",
    "print(f\"MAE: {mae:.4f}\")\n"
   ]
  },
  {
   "cell_type": "code",
   "execution_count": null,
   "id": "e7c2e472-6fa3-406e-b980-009166d28cb7",
   "metadata": {},
   "outputs": [],
   "source": []
  },
  {
   "cell_type": "markdown",
   "id": "8e794da1-c893-4242-83cf-470e26b0ceba",
   "metadata": {
    "id": "8e794da1-c893-4242-83cf-470e26b0ceba"
   },
   "source": [
    "# Prediction algorithm using Random Forest"
   ]
  },
  {
   "cell_type": "code",
   "execution_count": 5,
   "id": "661d3183-90e0-48f3-9d79-b53c4f2dad2c",
   "metadata": {
    "id": "661d3183-90e0-48f3-9d79-b53c4f2dad2c"
   },
   "outputs": [
    {
     "ename": "ValueError",
     "evalue": "The feature names should match those that were passed during fit.\nFeature names unseen at fit time:\n- score\n",
     "output_type": "error",
     "traceback": [
      "\u001b[0;31m---------------------------------------------------------------------------\u001b[0m",
      "\u001b[0;31mValueError\u001b[0m                                Traceback (most recent call last)",
      "\u001b[0;32m/var/folders/jz/jdxddpys7g1_q5rl1d4dbpcw0000gn/T/ipykernel_7167/1738672100.py\u001b[0m in \u001b[0;36m<module>\u001b[0;34m\u001b[0m\n\u001b[1;32m     13\u001b[0m \u001b[0;34m\u001b[0m\u001b[0m\n\u001b[1;32m     14\u001b[0m \u001b[0;31m# Test\u001b[0m\u001b[0;34m\u001b[0m\u001b[0;34m\u001b[0m\u001b[0;34m\u001b[0m\u001b[0m\n\u001b[0;32m---> 15\u001b[0;31m \u001b[0mtest_predictions\u001b[0m \u001b[0;34m=\u001b[0m \u001b[0mrf\u001b[0m\u001b[0;34m.\u001b[0m\u001b[0mpredict\u001b[0m\u001b[0;34m(\u001b[0m\u001b[0mtest_inputs\u001b[0m\u001b[0;34m)\u001b[0m\u001b[0;34m\u001b[0m\u001b[0;34m\u001b[0m\u001b[0m\n\u001b[0m",
      "\u001b[0;32m~/opt/anaconda3/lib/python3.8/site-packages/sklearn/ensemble/_forest.py\u001b[0m in \u001b[0;36mpredict\u001b[0;34m(self, X)\u001b[0m\n\u001b[1;32m    979\u001b[0m         \u001b[0mcheck_is_fitted\u001b[0m\u001b[0;34m(\u001b[0m\u001b[0mself\u001b[0m\u001b[0;34m)\u001b[0m\u001b[0;34m\u001b[0m\u001b[0;34m\u001b[0m\u001b[0m\n\u001b[1;32m    980\u001b[0m         \u001b[0;31m# Check data\u001b[0m\u001b[0;34m\u001b[0m\u001b[0;34m\u001b[0m\u001b[0;34m\u001b[0m\u001b[0m\n\u001b[0;32m--> 981\u001b[0;31m         \u001b[0mX\u001b[0m \u001b[0;34m=\u001b[0m \u001b[0mself\u001b[0m\u001b[0;34m.\u001b[0m\u001b[0m_validate_X_predict\u001b[0m\u001b[0;34m(\u001b[0m\u001b[0mX\u001b[0m\u001b[0;34m)\u001b[0m\u001b[0;34m\u001b[0m\u001b[0;34m\u001b[0m\u001b[0m\n\u001b[0m\u001b[1;32m    982\u001b[0m \u001b[0;34m\u001b[0m\u001b[0m\n\u001b[1;32m    983\u001b[0m         \u001b[0;31m# Assign chunk of trees to jobs\u001b[0m\u001b[0;34m\u001b[0m\u001b[0;34m\u001b[0m\u001b[0;34m\u001b[0m\u001b[0m\n",
      "\u001b[0;32m~/opt/anaconda3/lib/python3.8/site-packages/sklearn/ensemble/_forest.py\u001b[0m in \u001b[0;36m_validate_X_predict\u001b[0;34m(self, X)\u001b[0m\n\u001b[1;32m    600\u001b[0m         Validate X whenever one tries to predict, apply, predict_proba.\"\"\"\n\u001b[1;32m    601\u001b[0m         \u001b[0mcheck_is_fitted\u001b[0m\u001b[0;34m(\u001b[0m\u001b[0mself\u001b[0m\u001b[0;34m)\u001b[0m\u001b[0;34m\u001b[0m\u001b[0;34m\u001b[0m\u001b[0m\n\u001b[0;32m--> 602\u001b[0;31m         \u001b[0mX\u001b[0m \u001b[0;34m=\u001b[0m \u001b[0mself\u001b[0m\u001b[0;34m.\u001b[0m\u001b[0m_validate_data\u001b[0m\u001b[0;34m(\u001b[0m\u001b[0mX\u001b[0m\u001b[0;34m,\u001b[0m \u001b[0mdtype\u001b[0m\u001b[0;34m=\u001b[0m\u001b[0mDTYPE\u001b[0m\u001b[0;34m,\u001b[0m \u001b[0maccept_sparse\u001b[0m\u001b[0;34m=\u001b[0m\u001b[0;34m\"csr\"\u001b[0m\u001b[0;34m,\u001b[0m \u001b[0mreset\u001b[0m\u001b[0;34m=\u001b[0m\u001b[0;32mFalse\u001b[0m\u001b[0;34m)\u001b[0m\u001b[0;34m\u001b[0m\u001b[0;34m\u001b[0m\u001b[0m\n\u001b[0m\u001b[1;32m    603\u001b[0m         \u001b[0;32mif\u001b[0m \u001b[0missparse\u001b[0m\u001b[0;34m(\u001b[0m\u001b[0mX\u001b[0m\u001b[0;34m)\u001b[0m \u001b[0;32mand\u001b[0m \u001b[0;34m(\u001b[0m\u001b[0mX\u001b[0m\u001b[0;34m.\u001b[0m\u001b[0mindices\u001b[0m\u001b[0;34m.\u001b[0m\u001b[0mdtype\u001b[0m \u001b[0;34m!=\u001b[0m \u001b[0mnp\u001b[0m\u001b[0;34m.\u001b[0m\u001b[0mintc\u001b[0m \u001b[0;32mor\u001b[0m \u001b[0mX\u001b[0m\u001b[0;34m.\u001b[0m\u001b[0mindptr\u001b[0m\u001b[0;34m.\u001b[0m\u001b[0mdtype\u001b[0m \u001b[0;34m!=\u001b[0m \u001b[0mnp\u001b[0m\u001b[0;34m.\u001b[0m\u001b[0mintc\u001b[0m\u001b[0;34m)\u001b[0m\u001b[0;34m:\u001b[0m\u001b[0;34m\u001b[0m\u001b[0;34m\u001b[0m\u001b[0m\n\u001b[1;32m    604\u001b[0m             \u001b[0;32mraise\u001b[0m \u001b[0mValueError\u001b[0m\u001b[0;34m(\u001b[0m\u001b[0;34m\"No support for np.int64 index based sparse matrices\"\u001b[0m\u001b[0;34m)\u001b[0m\u001b[0;34m\u001b[0m\u001b[0;34m\u001b[0m\u001b[0m\n",
      "\u001b[0;32m~/opt/anaconda3/lib/python3.8/site-packages/sklearn/base.py\u001b[0m in \u001b[0;36m_validate_data\u001b[0;34m(self, X, y, reset, validate_separately, **check_params)\u001b[0m\n\u001b[1;32m    546\u001b[0m             \u001b[0mvalidated\u001b[0m\u001b[0;34m.\u001b[0m\u001b[0;34m\u001b[0m\u001b[0;34m\u001b[0m\u001b[0m\n\u001b[1;32m    547\u001b[0m         \"\"\"\n\u001b[0;32m--> 548\u001b[0;31m         \u001b[0mself\u001b[0m\u001b[0;34m.\u001b[0m\u001b[0m_check_feature_names\u001b[0m\u001b[0;34m(\u001b[0m\u001b[0mX\u001b[0m\u001b[0;34m,\u001b[0m \u001b[0mreset\u001b[0m\u001b[0;34m=\u001b[0m\u001b[0mreset\u001b[0m\u001b[0;34m)\u001b[0m\u001b[0;34m\u001b[0m\u001b[0;34m\u001b[0m\u001b[0m\n\u001b[0m\u001b[1;32m    549\u001b[0m \u001b[0;34m\u001b[0m\u001b[0m\n\u001b[1;32m    550\u001b[0m         \u001b[0;32mif\u001b[0m \u001b[0my\u001b[0m \u001b[0;32mis\u001b[0m \u001b[0;32mNone\u001b[0m \u001b[0;32mand\u001b[0m \u001b[0mself\u001b[0m\u001b[0;34m.\u001b[0m\u001b[0m_get_tags\u001b[0m\u001b[0;34m(\u001b[0m\u001b[0;34m)\u001b[0m\u001b[0;34m[\u001b[0m\u001b[0;34m\"requires_y\"\u001b[0m\u001b[0;34m]\u001b[0m\u001b[0;34m:\u001b[0m\u001b[0;34m\u001b[0m\u001b[0;34m\u001b[0m\u001b[0m\n",
      "\u001b[0;32m~/opt/anaconda3/lib/python3.8/site-packages/sklearn/base.py\u001b[0m in \u001b[0;36m_check_feature_names\u001b[0;34m(self, X, reset)\u001b[0m\n\u001b[1;32m    479\u001b[0m                 )\n\u001b[1;32m    480\u001b[0m \u001b[0;34m\u001b[0m\u001b[0m\n\u001b[0;32m--> 481\u001b[0;31m             \u001b[0;32mraise\u001b[0m \u001b[0mValueError\u001b[0m\u001b[0;34m(\u001b[0m\u001b[0mmessage\u001b[0m\u001b[0;34m)\u001b[0m\u001b[0;34m\u001b[0m\u001b[0;34m\u001b[0m\u001b[0m\n\u001b[0m\u001b[1;32m    482\u001b[0m \u001b[0;34m\u001b[0m\u001b[0m\n\u001b[1;32m    483\u001b[0m     def _validate_data(\n",
      "\u001b[0;31mValueError\u001b[0m: The feature names should match those that were passed during fit.\nFeature names unseen at fit time:\n- score\n"
     ]
    }
   ],
   "source": [
    "# Split training and validation tests\n",
    "\n",
    "X_train, X_test, y_train, y_test = train_test_split(train_inputs, train_targets, test_size = 0.2, random_state = 0)\n",
    "\n",
    "# Create algorithm\n",
    "rf = RandomForestRegressor()\n",
    "\n",
    "# Train\n",
    "rf.fit(X_train, y_train)\n",
    "\n",
    "# Validation\n",
    "val_predictions = rf.predict(X_test)\n",
    "\n",
    "# Test\n",
    "test_predictions = rf.predict(test_inputs)"
   ]
  },
  {
   "cell_type": "markdown",
   "id": "148a0d92-4cbf-4785-8fe3-eea3e20e1733",
   "metadata": {
    "id": "148a0d92-4cbf-4785-8fe3-eea3e20e1733"
   },
   "source": [
    "# Compute error metric"
   ]
  },
  {
   "cell_type": "code",
   "execution_count": null,
   "id": "6a39cf44-0afd-4510-a325-429ea79e3ac9",
   "metadata": {
    "colab": {
     "base_uri": "https://localhost:8080/"
    },
    "id": "6a39cf44-0afd-4510-a325-429ea79e3ac9",
    "outputId": "34d20d60-efef-4e7c-a930-0a13b365ad27"
   },
   "outputs": [],
   "source": [
    "rmse = mean_squared_error(y_test, val_predictions, squared=False)\n",
    "print(f\"Root Mean Squared Error = {rmse / 1e6:.3} Mbit/s\")"
   ]
  },
  {
   "cell_type": "markdown",
   "id": "ce841334-87a2-4322-bb96-01962e889d01",
   "metadata": {
    "id": "ce841334-87a2-4322-bb96-01962e889d01"
   },
   "source": [
    "# Save results"
   ]
  },
  {
   "cell_type": "code",
   "execution_count": null,
   "id": "ff142144-a6cd-4fec-9c78-19deaef02795",
   "metadata": {
    "colab": {
     "base_uri": "https://localhost:8080/",
     "height": 206
    },
    "id": "ff142144-a6cd-4fec-9c78-19deaef02795",
    "outputId": "bff95ac2-7106-4c90-f7df-c97f7687a502"
   },
   "outputs": [],
   "source": [
    "# Add index to results\n",
    "predictions_df = pd.DataFrame({'id': test_df.id, 'target': test_predictions})\n",
    "predictions_df.to_csv(\"BenchmarkSubmission.csv\", index = False)\n",
    "predictions_df.head()"
   ]
  }
 ],
 "metadata": {
  "colab": {
   "provenance": []
  },
  "kernelspec": {
   "display_name": "Python 3 (ipykernel)",
   "language": "python",
   "name": "python3"
  },
  "language_info": {
   "codemirror_mode": {
    "name": "ipython",
    "version": 3
   },
   "file_extension": ".py",
   "mimetype": "text/x-python",
   "name": "python",
   "nbconvert_exporter": "python",
   "pygments_lexer": "ipython3",
   "version": "3.8.18"
  }
 },
 "nbformat": 4,
 "nbformat_minor": 5
}
