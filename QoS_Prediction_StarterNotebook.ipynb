{
 "cells": [
  {
   "cell_type": "code",
   "execution_count": 1,
   "id": "83659bd7-873f-4efc-b71e-8319cba9a7d3",
   "metadata": {
    "id": "83659bd7-873f-4efc-b71e-8319cba9a7d3"
   },
   "outputs": [],
   "source": [
    "import pandas as pd\n",
    "import numpy as np\n",
    "from sklearn.compose import make_column_transformer\n",
    "from sklearn.ensemble import RandomForestRegressor\n",
    "from xgboost import XGBRegressor\n",
    "from sklearn.metrics import r2_score, mean_squared_error, mean_absolute_error\n",
    "from sklearn.preprocessing import OrdinalEncoder\n",
    "from sklearn.model_selection import train_test_split"
   ]
  },
  {
   "cell_type": "markdown",
   "id": "ddd1971d-f8a6-4470-ae70-73df82376eb5",
   "metadata": {
    "id": "ddd1971d-f8a6-4470-ae70-73df82376eb5"
   },
   "source": [
    "# Data loading"
   ]
  },
  {
   "cell_type": "code",
   "execution_count": 2,
   "id": "9ec676c9-e6a7-4a70-be2c-76345f1fc6b6",
   "metadata": {
    "id": "9ec676c9-e6a7-4a70-be2c-76345f1fc6b6"
   },
   "outputs": [],
   "source": [
    "train_df = pd.read_csv(\"Train.csv\")\n",
    "test_df = pd.read_csv(\"Test.csv\")\n",
    "sample_submission = pd.read_csv('SampleSubmission.csv')"
   ]
  },
  {
   "cell_type": "markdown",
   "id": "36c5c4fb-c820-4eea-b9bb-5a93ed88ce69",
   "metadata": {
    "id": "36c5c4fb-c820-4eea-b9bb-5a93ed88ce69"
   },
   "source": [
    "# Data preparation"
   ]
  },
  {
   "cell_type": "code",
   "execution_count": 3,
   "id": "f71f8390-07e6-44b4-ad33-ba882d37e679",
   "metadata": {
    "id": "f71f8390-07e6-44b4-ad33-ba882d37e679"
   },
   "outputs": [],
   "source": [
    "# Split inputs and targets\n",
    "train_inputs = train_df.drop(columns=['target'])\n",
    "train_targets = train_df['target']\n",
    "test_inputs = test_df.copy()\n",
    "\n",
    "# Select features\n",
    "dropped_columns = ['device', 'id']\n",
    "train_inputs.drop(columns=dropped_columns, inplace=True)\n",
    "test_inputs.drop(columns=dropped_columns, inplace=True)\n",
    "\n",
    "# Transform categorical features\n",
    "categorical_features = ['area']\n",
    "oe = OrdinalEncoder()\n",
    "train_inputs[categorical_features] = oe.fit_transform(train_inputs[categorical_features])\n",
    "test_inputs[categorical_features] = oe.transform(test_inputs[categorical_features])\n",
    "\n",
    "# Missing value imputation\n",
    "train_inputs.fillna(0, inplace=True)\n",
    "test_inputs.fillna(0, inplace=True)"
   ]
  },
  {
   "cell_type": "markdown",
   "id": "ecde83a6-b2bb-4893-8ffc-c878942cf660",
   "metadata": {},
   "source": [
    "### Prediction using XGBoost"
   ]
  },
  {
   "cell_type": "code",
   "execution_count": 4,
   "id": "8b221745-109d-4c4c-b677-ac1fb7afca6d",
   "metadata": {},
   "outputs": [
    {
     "name": "stdout",
     "output_type": "stream",
     "text": [
      "R²: 0.9417\n",
      "RMSE: 10622065.0936\n",
      "MAE: 6736943.0043\n"
     ]
    }
   ],
   "source": [
    "X_train_xg, X_test_xg, y_train_xg, y_test_xg = train_test_split(\n",
    "        train_inputs, train_targets, test_size=0.2, random_state=42\n",
    "    )\n",
    "model = XGBRegressor(\n",
    "        n_estimators=100,\n",
    "        learning_rate=0.1,\n",
    "        max_depth=5,\n",
    "        random_state=42\n",
    "    )\n",
    "\n",
    "model.fit(X_train_xg, y_train_xg)\n",
    "\n",
    "y_pred_xg = model.predict(X_test_xg)\n",
    "\n",
    "r2 = r2_score(y_test_xg, y_pred_xg)\n",
    "rmse = np.sqrt(mean_squared_error(y_test_xg, y_pred_xg))\n",
    "mae = mean_absolute_error(y_test_xg, y_pred_xg)\n",
    "\n",
    "\n",
    "\n",
    "print(f\"R²: {r2:.4f}\")\n",
    "print(f\"RMSE: {rmse:.4f}\")\n",
    "print(f\"MAE: {mae:.4f}\")\n"
   ]
  },
  {
   "cell_type": "code",
   "execution_count": null,
   "id": "e7c2e472-6fa3-406e-b980-009166d28cb7",
   "metadata": {},
   "outputs": [],
   "source": []
  },
  {
   "cell_type": "markdown",
   "id": "8e794da1-c893-4242-83cf-470e26b0ceba",
   "metadata": {
    "id": "8e794da1-c893-4242-83cf-470e26b0ceba"
   },
   "source": [
    "# Prediction algorithm using Random Forest"
   ]
  },
  {
   "cell_type": "code",
   "execution_count": 5,
   "id": "661d3183-90e0-48f3-9d79-b53c4f2dad2c",
   "metadata": {
    "id": "661d3183-90e0-48f3-9d79-b53c4f2dad2c"
   },
   "outputs": [],
   "source": [
    "# Split training and validation tests\n",
    "\n",
    "X_train, X_test, y_train, y_test = train_test_split(train_inputs, train_targets, test_size = 0.2, random_state = 0)\n",
    "\n",
    "# Create algorithm\n",
    "rf = RandomForestRegressor()\n",
    "\n",
    "# Train\n",
    "rf.fit(X_train, y_train)\n",
    "\n",
    "# Validation\n",
    "val_predictions = rf.predict(X_test)\n",
    "\n",
    "# Test\n",
    "test_predictions = rf.predict(test_inputs)"
   ]
  },
  {
   "cell_type": "markdown",
   "id": "148a0d92-4cbf-4785-8fe3-eea3e20e1733",
   "metadata": {
    "id": "148a0d92-4cbf-4785-8fe3-eea3e20e1733"
   },
   "source": [
    "# Compute error metric"
   ]
  },
  {
   "cell_type": "code",
   "execution_count": 6,
   "id": "6a39cf44-0afd-4510-a325-429ea79e3ac9",
   "metadata": {
    "colab": {
     "base_uri": "https://localhost:8080/"
    },
    "id": "6a39cf44-0afd-4510-a325-429ea79e3ac9",
    "outputId": "34d20d60-efef-4e7c-a930-0a13b365ad27"
   },
   "outputs": [
    {
     "name": "stdout",
     "output_type": "stream",
     "text": [
      "Root Mean Squared Error = 9.78 Mbit/s\n",
      "R²: 0.9491\n"
     ]
    }
   ],
   "source": [
    "rmse = mean_squared_error(y_test, val_predictions, squared=False)\n",
    "print(f\"Root Mean Squared Error = {rmse / 1e6:.3} Mbit/s\")\n",
    "r2 = r2_score(y_test, val_predictions)\n",
    "print(f\"R²: {r2:.4f}\")"
   ]
  },
  {
   "cell_type": "markdown",
   "id": "ce841334-87a2-4322-bb96-01962e889d01",
   "metadata": {
    "id": "ce841334-87a2-4322-bb96-01962e889d01"
   },
   "source": [
    "# Save results"
   ]
  },
  {
   "cell_type": "code",
   "execution_count": 7,
   "id": "ff142144-a6cd-4fec-9c78-19deaef02795",
   "metadata": {
    "colab": {
     "base_uri": "https://localhost:8080/",
     "height": 206
    },
    "id": "ff142144-a6cd-4fec-9c78-19deaef02795",
    "outputId": "bff95ac2-7106-4c90-f7df-c97f7687a502"
   },
   "outputs": [
    {
     "data": {
      "text/html": [
       "<div>\n",
       "<style scoped>\n",
       "    .dataframe tbody tr th:only-of-type {\n",
       "        vertical-align: middle;\n",
       "    }\n",
       "\n",
       "    .dataframe tbody tr th {\n",
       "        vertical-align: top;\n",
       "    }\n",
       "\n",
       "    .dataframe thead th {\n",
       "        text-align: right;\n",
       "    }\n",
       "</style>\n",
       "<table border=\"1\" class=\"dataframe\">\n",
       "  <thead>\n",
       "    <tr style=\"text-align: right;\">\n",
       "      <th></th>\n",
       "      <th>id</th>\n",
       "      <th>target</th>\n",
       "    </tr>\n",
       "  </thead>\n",
       "  <tbody>\n",
       "    <tr>\n",
       "      <th>0</th>\n",
       "      <td>Id_ln0e0hfrgx</td>\n",
       "      <td>22375000.0</td>\n",
       "    </tr>\n",
       "    <tr>\n",
       "      <th>1</th>\n",
       "      <td>Id_svf7nz9fxv</td>\n",
       "      <td>62965000.0</td>\n",
       "    </tr>\n",
       "    <tr>\n",
       "      <th>2</th>\n",
       "      <td>Id_ww2mh07gwj</td>\n",
       "      <td>79366000.0</td>\n",
       "    </tr>\n",
       "    <tr>\n",
       "      <th>3</th>\n",
       "      <td>Id_v88r4y03ww</td>\n",
       "      <td>20463900.0</td>\n",
       "    </tr>\n",
       "    <tr>\n",
       "      <th>4</th>\n",
       "      <td>Id_2u4y4kzglh</td>\n",
       "      <td>3212600.0</td>\n",
       "    </tr>\n",
       "  </tbody>\n",
       "</table>\n",
       "</div>"
      ],
      "text/plain": [
       "              id      target\n",
       "0  Id_ln0e0hfrgx  22375000.0\n",
       "1  Id_svf7nz9fxv  62965000.0\n",
       "2  Id_ww2mh07gwj  79366000.0\n",
       "3  Id_v88r4y03ww  20463900.0\n",
       "4  Id_2u4y4kzglh   3212600.0"
      ]
     },
     "execution_count": 7,
     "metadata": {},
     "output_type": "execute_result"
    }
   ],
   "source": [
    "# Add index to results\n",
    "predictions_df = pd.DataFrame({'id': test_df.id, 'target': test_predictions})\n",
    "predictions_df.to_csv(\"BenchmarkSubmission.csv\", index = False)\n",
    "predictions_df.head()"
   ]
  }
 ],
 "metadata": {
  "colab": {
   "provenance": []
  },
  "kernelspec": {
   "display_name": "Python 3 (ipykernel)",
   "language": "python",
   "name": "python3"
  },
  "language_info": {
   "codemirror_mode": {
    "name": "ipython",
    "version": 3
   },
   "file_extension": ".py",
   "mimetype": "text/x-python",
   "name": "python",
   "nbconvert_exporter": "python",
   "pygments_lexer": "ipython3",
   "version": "3.8.18"
  }
 },
 "nbformat": 4,
 "nbformat_minor": 5
}
